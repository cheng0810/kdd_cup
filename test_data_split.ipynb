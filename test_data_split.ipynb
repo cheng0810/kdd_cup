{
 "cells": [
  {
   "cell_type": "code",
   "execution_count": 1,
   "metadata": {},
   "outputs": [],
   "source": [
    "def take_no_plan(csv):\n",
    "    import pandas as pd\n",
    "    import numpy as np\n",
    "    \n",
    "    no_plan = csv.plans.values \n",
    "    #pick out which sid ddin't have plan\n",
    "    no_plan_index = []\n",
    "    for i in range(len(no_plan)):\n",
    "        no_plan[i] = str(no_plan[i])\n",
    "    for i in range(len(no_plan)):\n",
    "        if(no_plan[i] == 'nan'):\n",
    "            no_plan_index.append(i)\n",
    "    \n",
    "    #use the no plan index to form the pandas\n",
    "    test_no_plan = csv.loc[no_plan_index,:]\n",
    "    \n",
    "    #because no plan so give recommend_mode: 0 to the sid\n",
    "    no_plan_sid = test_no_plan.sid\n",
    "\n",
    "    no_plan_data = pd.DataFrame({'sid':no_plan_sid})\n",
    "    no_plan_data['recommend_mode'] = '0'\n",
    "    \n",
    "    #drop no plan data\n",
    "    csv = csv.drop(index = no_plan_index)\n",
    "    \n",
    "    return csv, no_plan_data"
   ]
  },
  {
   "cell_type": "code",
   "execution_count": 2,
   "metadata": {},
   "outputs": [],
   "source": [
    "def take_no_pid(csv):\n",
    "    import pandas as pd\n",
    "    import numpy as np\n",
    "    from tqdm import tqdm_notebook as tqdm\n",
    "    \n",
    "    #start to deal with no_pid and gove the data the most recommend_mode\n",
    "    no_pid = csv.pid.values\n",
    "    #先把index加入array 之後把沒有pid的那個index加入no_pid_index 以便之後drop\n",
    "    pid_index = csv.index.values\n",
    "\n",
    "    #pick out which sid didn't have pid\n",
    "    no_pid_index = []\n",
    "    for i in range(len(no_pid)):\n",
    "        if(no_pid[i] == 0):\n",
    "            no_pid_index.append(pid_index[i])\n",
    "    \n",
    "    #use the no pid index to form the pandas\n",
    "    test_no_pid = csv.loc[no_pid_index,:]\n",
    "    \n",
    "    no_pid_plan = test_no_pid.plans.values\n",
    "    \n",
    "    #put the most recommend_mode into array\n",
    "    transport_mode_num = []\n",
    "\n",
    "    for i in tqdm(range(len(no_pid_plan))):\n",
    "        # only need the first recommend plans.value\n",
    "        change = str(no_pid_plan[i]).split('transport_mode')\n",
    "        #if transport_mode is 10 or 11 so the strlength will be 2\n",
    "        if(str(change[1])[4] == str(0)):\n",
    "            transport_mode_num.append(str(10))\n",
    "        elif(str(change[1])[4] == str(0)):\n",
    "            transport_mode_num.append(str(11))\n",
    "        else:\n",
    "            transport_mode_num.append(str(change[1])[3])\n",
    "    \n",
    "    #make a most recommend mode for no_pid and form pandas\n",
    "    no_pid_sid = test_no_pid.sid\n",
    "    no_pid_data = pd.DataFrame({'sid':no_pid_sid , 'recommend_mode' : transport_mode_num})\n",
    "    no_pid_data = no_pid_data[['sid', 'recommend_mode']]\n",
    "    \n",
    "    #drop no pid data\n",
    "    csv = csv.drop(index = no_pid_index)\n",
    "    \n",
    "    return csv, no_pid_data"
   ]
  },
  {
   "cell_type": "code",
   "execution_count": 3,
   "metadata": {},
   "outputs": [],
   "source": [
    "def main():\n",
    "    import pandas as pd\n",
    "    import numpy as np\n",
    "    import csv\n",
    "    \n",
    "    test_data = pd.read_csv('/storage/kdd/test_final.csv')\n",
    "    test_data, no_plan_data = take_no_plan(test_data)\n",
    "    test_data, no_pid_data = take_no_pid(test_data)\n",
    "    \n",
    "    # test_merges.to_csv('/storage/kdd/test_final1.csv',index = False)\n",
    "    \n",
    "    #concat the two pandas and it is part of answer\n",
    "    recommend = pd.concat([no_plan_data,no_pid_data], ignore_index= True)\n",
    "    recommend.to_csv('/storage/kdd/part_answer.csv', index = False)"
   ]
  },
  {
   "cell_type": "code",
   "execution_count": 4,
   "metadata": {},
   "outputs": [
    {
     "data": {
      "application/vnd.jupyter.widget-view+json": {
       "model_id": "316af6ee2b7b48398c0c72618b49ac9f",
       "version_major": 2,
       "version_minor": 0
      },
      "text/plain": [
       "HBox(children=(IntProgress(value=0, max=30813), HTML(value='')))"
      ]
     },
     "metadata": {},
     "output_type": "display_data"
    },
    {
     "name": "stdout",
     "output_type": "stream",
     "text": [
      "\n"
     ]
    }
   ],
   "source": [
    "if __name__ == '__main__':\n",
    "    main()"
   ]
  }
 ],
 "metadata": {
  "kernelspec": {
   "display_name": "Python 3",
   "language": "python",
   "name": "python3"
  },
  "language_info": {
   "codemirror_mode": {
    "name": "ipython",
    "version": 3
   },
   "file_extension": ".py",
   "mimetype": "text/x-python",
   "name": "python",
   "nbconvert_exporter": "python",
   "pygments_lexer": "ipython3",
   "version": "3.5.2"
  }
 },
 "nbformat": 4,
 "nbformat_minor": 2
}
