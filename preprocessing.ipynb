{
 "cells": [
  {
   "cell_type": "code",
   "execution_count": 1,
   "metadata": {},
   "outputs": [],
   "source": [
    "import pandas as pd\n",
    "import numpy as np\n",
    "import os\n",
    "import math\n",
    "import csv\n",
    "import random\n",
    "import time\n",
    "import collections\n",
    "from tqdm import tqdm_notebook as tqdm"
   ]
  },
  {
   "cell_type": "code",
   "execution_count": 2,
   "metadata": {},
   "outputs": [],
   "source": [
    "# train_merges = pd.read_csv('/storage/kdd/train_merges.csv')\n",
    "train_merges = pd.read_csv('/storage/kdd/test_final1.csv')"
   ]
  },
  {
   "cell_type": "code",
   "execution_count": 3,
   "metadata": {},
   "outputs": [],
   "source": [
    "start = train_merges.o.values\n",
    "distination = train_merges.d.values\n",
    "req_t = train_merges.req_time.values"
   ]
  },
  {
   "cell_type": "code",
   "execution_count": 4,
   "metadata": {},
   "outputs": [],
   "source": [
    "# print(len(start))\n",
    "# start_x = str(start[0]).split(',')[0]\n",
    "start_x = []\n",
    "start_y = []\n",
    "for i in range(len(start)):\n",
    "    start_x.append(str(start[i]).split(',')[0])\n",
    "    start_y.append(str(start[i].split(',')[1]))"
   ]
  },
  {
   "cell_type": "code",
   "execution_count": 5,
   "metadata": {},
   "outputs": [],
   "source": [
    "distination_x = []\n",
    "distination_y = []\n",
    "for i in range(len(distination)):\n",
    "    distination_x.append(str(distination[i]).split(',')[0])\n",
    "    distination_y.append(str(distination[i].split(',')[1]))"
   ]
  },
  {
   "cell_type": "code",
   "execution_count": 6,
   "metadata": {},
   "outputs": [],
   "source": [
    "# req_t_sep = []\n",
    "# req = req_t[0].split(' ')[1].split(':')[0] #crazy split to take the hours number out\n",
    "# req"
   ]
  },
  {
   "cell_type": "code",
   "execution_count": 7,
   "metadata": {},
   "outputs": [],
   "source": [
    "req_t_h = []\n",
    "\n",
    "for i in range(len(req_t)):\n",
    "    req_t_h.append(time.strptime(req_t[i], '%Y-%m-%d %H:%M:%S').tm_hour) # 阿蕊say it will be more quickly but i think it will be slower\n",
    "# a = req_t[0]\n",
    "# b = time.strptime(a, '%Y-%m-%d %H:%M:%S')# 阿蕊say it will be more quickly\n",
    "# b.tm_min"
   ]
  },
  {
   "cell_type": "code",
   "execution_count": 8,
   "metadata": {},
   "outputs": [
    {
     "name": "stdout",
     "output_type": "stream",
     "text": [
      "<class 'list'>\n"
     ]
    }
   ],
   "source": [
    "print(type(req_t_h))"
   ]
  },
  {
   "cell_type": "code",
   "execution_count": 9,
   "metadata": {},
   "outputs": [],
   "source": [
    "# a = collections.Counter(req_t_h) #count each numbers amount"
   ]
  },
  {
   "cell_type": "code",
   "execution_count": 10,
   "metadata": {},
   "outputs": [],
   "source": [
    "o1 = pd.DataFrame(start_x, columns = ['o1'])\n",
    "o2 = pd.DataFrame(start_y, columns = ['o2'])\n",
    "d1 = pd.DataFrame(distination_x, columns = ['d1'])\n",
    "d2 = pd.DataFrame(distination_y, columns = ['d2'])\n",
    "time_hour = pd.DataFrame(req_t_h, columns = ['time_hour'])"
   ]
  },
  {
   "cell_type": "code",
   "execution_count": 11,
   "metadata": {},
   "outputs": [],
   "source": [
    "final = pd.concat([train_merges, o1, o2, d1, d2, time_hour], axis = 1)"
   ]
  },
  {
   "cell_type": "code",
   "execution_count": 12,
   "metadata": {},
   "outputs": [
    {
     "data": {
      "text/html": [
       "<div>\n",
       "<style scoped>\n",
       "    .dataframe tbody tr th:only-of-type {\n",
       "        vertical-align: middle;\n",
       "    }\n",
       "\n",
       "    .dataframe tbody tr th {\n",
       "        vertical-align: top;\n",
       "    }\n",
       "\n",
       "    .dataframe thead th {\n",
       "        text-align: right;\n",
       "    }\n",
       "</style>\n",
       "<table border=\"1\" class=\"dataframe\">\n",
       "  <thead>\n",
       "    <tr style=\"text-align: right;\">\n",
       "      <th></th>\n",
       "      <th>sid</th>\n",
       "      <th>pid</th>\n",
       "      <th>req_time</th>\n",
       "      <th>o</th>\n",
       "      <th>d</th>\n",
       "      <th>plan_time</th>\n",
       "      <th>plans</th>\n",
       "      <th>p0</th>\n",
       "      <th>p1</th>\n",
       "      <th>p2</th>\n",
       "      <th>...</th>\n",
       "      <th>p61</th>\n",
       "      <th>p62</th>\n",
       "      <th>p63</th>\n",
       "      <th>p64</th>\n",
       "      <th>p65</th>\n",
       "      <th>o1</th>\n",
       "      <th>o2</th>\n",
       "      <th>d1</th>\n",
       "      <th>d2</th>\n",
       "      <th>time_hour</th>\n",
       "    </tr>\n",
       "  </thead>\n",
       "  <tbody>\n",
       "    <tr>\n",
       "      <th>0</th>\n",
       "      <td>1126541</td>\n",
       "      <td>178395.0</td>\n",
       "      <td>2018-12-05 14:51:43</td>\n",
       "      <td>116.41,39.92</td>\n",
       "      <td>116.46,39.95</td>\n",
       "      <td>2018-12-05 14:51:43</td>\n",
       "      <td>[{\"distance\": 13610, \"price\": 400, \"eta\": 2388...</td>\n",
       "      <td>0.0</td>\n",
       "      <td>0.0</td>\n",
       "      <td>0.0</td>\n",
       "      <td>...</td>\n",
       "      <td>0.0</td>\n",
       "      <td>0.0</td>\n",
       "      <td>0.0</td>\n",
       "      <td>0.0</td>\n",
       "      <td>0.0</td>\n",
       "      <td>116.41</td>\n",
       "      <td>39.92</td>\n",
       "      <td>116.46</td>\n",
       "      <td>39.95</td>\n",
       "      <td>14</td>\n",
       "    </tr>\n",
       "    <tr>\n",
       "      <th>1</th>\n",
       "      <td>1389752</td>\n",
       "      <td>178395.0</td>\n",
       "      <td>2018-12-03 17:30:22</td>\n",
       "      <td>116.40,39.91</td>\n",
       "      <td>116.46,39.95</td>\n",
       "      <td>2018-12-03 17:30:22</td>\n",
       "      <td>[{\"distance\": 10499, \"price\": 400, \"eta\": 2946...</td>\n",
       "      <td>0.0</td>\n",
       "      <td>0.0</td>\n",
       "      <td>0.0</td>\n",
       "      <td>...</td>\n",
       "      <td>0.0</td>\n",
       "      <td>0.0</td>\n",
       "      <td>0.0</td>\n",
       "      <td>0.0</td>\n",
       "      <td>0.0</td>\n",
       "      <td>116.40</td>\n",
       "      <td>39.91</td>\n",
       "      <td>116.46</td>\n",
       "      <td>39.95</td>\n",
       "      <td>17</td>\n",
       "    </tr>\n",
       "    <tr>\n",
       "      <th>2</th>\n",
       "      <td>1126543</td>\n",
       "      <td>178395.0</td>\n",
       "      <td>2018-12-05 12:10:43</td>\n",
       "      <td>116.41,39.92</td>\n",
       "      <td>116.32,39.89</td>\n",
       "      <td>2018-12-05 12:10:43</td>\n",
       "      <td>[{\"distance\": 12277, \"price\": 400, \"eta\": 2319...</td>\n",
       "      <td>0.0</td>\n",
       "      <td>0.0</td>\n",
       "      <td>0.0</td>\n",
       "      <td>...</td>\n",
       "      <td>0.0</td>\n",
       "      <td>0.0</td>\n",
       "      <td>0.0</td>\n",
       "      <td>0.0</td>\n",
       "      <td>0.0</td>\n",
       "      <td>116.41</td>\n",
       "      <td>39.92</td>\n",
       "      <td>116.32</td>\n",
       "      <td>39.89</td>\n",
       "      <td>12</td>\n",
       "    </tr>\n",
       "    <tr>\n",
       "      <th>3</th>\n",
       "      <td>1349248</td>\n",
       "      <td>178395.0</td>\n",
       "      <td>2018-12-04 09:42:37</td>\n",
       "      <td>116.41,39.91</td>\n",
       "      <td>116.46,39.95</td>\n",
       "      <td>2018-12-04 09:42:37</td>\n",
       "      <td>[{\"distance\": 9710, \"price\": 400, \"eta\": 2270,...</td>\n",
       "      <td>0.0</td>\n",
       "      <td>0.0</td>\n",
       "      <td>0.0</td>\n",
       "      <td>...</td>\n",
       "      <td>0.0</td>\n",
       "      <td>0.0</td>\n",
       "      <td>0.0</td>\n",
       "      <td>0.0</td>\n",
       "      <td>0.0</td>\n",
       "      <td>116.41</td>\n",
       "      <td>39.91</td>\n",
       "      <td>116.46</td>\n",
       "      <td>39.95</td>\n",
       "      <td>9</td>\n",
       "    </tr>\n",
       "    <tr>\n",
       "      <th>4</th>\n",
       "      <td>1349239</td>\n",
       "      <td>178395.0</td>\n",
       "      <td>2018-12-04 22:49:10</td>\n",
       "      <td>116.32,39.89</td>\n",
       "      <td>116.41,39.92</td>\n",
       "      <td>2018-12-04 22:49:10</td>\n",
       "      <td>[{\"distance\": 10475, \"price\": 4000, \"eta\": 194...</td>\n",
       "      <td>0.0</td>\n",
       "      <td>0.0</td>\n",
       "      <td>0.0</td>\n",
       "      <td>...</td>\n",
       "      <td>0.0</td>\n",
       "      <td>0.0</td>\n",
       "      <td>0.0</td>\n",
       "      <td>0.0</td>\n",
       "      <td>0.0</td>\n",
       "      <td>116.32</td>\n",
       "      <td>39.89</td>\n",
       "      <td>116.41</td>\n",
       "      <td>39.92</td>\n",
       "      <td>22</td>\n",
       "    </tr>\n",
       "  </tbody>\n",
       "</table>\n",
       "<p>5 rows × 78 columns</p>\n",
       "</div>"
      ],
      "text/plain": [
       "       sid       pid             req_time             o             d  \\\n",
       "0  1126541  178395.0  2018-12-05 14:51:43  116.41,39.92  116.46,39.95   \n",
       "1  1389752  178395.0  2018-12-03 17:30:22  116.40,39.91  116.46,39.95   \n",
       "2  1126543  178395.0  2018-12-05 12:10:43  116.41,39.92  116.32,39.89   \n",
       "3  1349248  178395.0  2018-12-04 09:42:37  116.41,39.91  116.46,39.95   \n",
       "4  1349239  178395.0  2018-12-04 22:49:10  116.32,39.89  116.41,39.92   \n",
       "\n",
       "             plan_time                                              plans  \\\n",
       "0  2018-12-05 14:51:43  [{\"distance\": 13610, \"price\": 400, \"eta\": 2388...   \n",
       "1  2018-12-03 17:30:22  [{\"distance\": 10499, \"price\": 400, \"eta\": 2946...   \n",
       "2  2018-12-05 12:10:43  [{\"distance\": 12277, \"price\": 400, \"eta\": 2319...   \n",
       "3  2018-12-04 09:42:37  [{\"distance\": 9710, \"price\": 400, \"eta\": 2270,...   \n",
       "4  2018-12-04 22:49:10  [{\"distance\": 10475, \"price\": 4000, \"eta\": 194...   \n",
       "\n",
       "    p0   p1   p2    ...      p61  p62  p63  p64  p65      o1     o2      d1  \\\n",
       "0  0.0  0.0  0.0    ...      0.0  0.0  0.0  0.0  0.0  116.41  39.92  116.46   \n",
       "1  0.0  0.0  0.0    ...      0.0  0.0  0.0  0.0  0.0  116.40  39.91  116.46   \n",
       "2  0.0  0.0  0.0    ...      0.0  0.0  0.0  0.0  0.0  116.41  39.92  116.32   \n",
       "3  0.0  0.0  0.0    ...      0.0  0.0  0.0  0.0  0.0  116.41  39.91  116.46   \n",
       "4  0.0  0.0  0.0    ...      0.0  0.0  0.0  0.0  0.0  116.32  39.89  116.41   \n",
       "\n",
       "      d2  time_hour  \n",
       "0  39.95         14  \n",
       "1  39.95         17  \n",
       "2  39.89         12  \n",
       "3  39.95          9  \n",
       "4  39.92         22  \n",
       "\n",
       "[5 rows x 78 columns]"
      ]
     },
     "execution_count": 12,
     "metadata": {},
     "output_type": "execute_result"
    }
   ],
   "source": [
    "final.head()"
   ]
  },
  {
   "cell_type": "code",
   "execution_count": 13,
   "metadata": {},
   "outputs": [],
   "source": [
    "# final.to_csv('/storage/kdd/train_final.csv', index = False)\n",
    "final.to_csv('/storage/kdd/test_final2.csv', index = False)"
   ]
  },
  {
   "cell_type": "code",
   "execution_count": null,
   "metadata": {},
   "outputs": [],
   "source": []
  }
 ],
 "metadata": {
  "kernelspec": {
   "display_name": "Python 3",
   "language": "python",
   "name": "python3"
  },
  "language_info": {
   "codemirror_mode": {
    "name": "ipython",
    "version": 3
   },
   "file_extension": ".py",
   "mimetype": "text/x-python",
   "name": "python",
   "nbconvert_exporter": "python",
   "pygments_lexer": "ipython3",
   "version": "3.5.2"
  }
 },
 "nbformat": 4,
 "nbformat_minor": 2
}
