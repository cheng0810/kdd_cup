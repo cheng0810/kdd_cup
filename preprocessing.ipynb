{
 "cells": [
  {
   "cell_type": "code",
   "execution_count": 1,
   "metadata": {},
   "outputs": [],
   "source": [
    "import pandas as pd\n",
    "import numpy as np\n",
    "import os\n",
    "import math\n",
    "import csv\n",
    "import random\n",
    "import time\n",
    "import collections\n",
    "from tqdm import tqdm_notebook as tqdm"
   ]
  },
  {
   "cell_type": "code",
   "execution_count": 2,
   "metadata": {},
   "outputs": [],
   "source": [
    "train_merges = pd.read_csv('/storage/kdd/train_merges.csv')"
   ]
  },
  {
   "cell_type": "code",
   "execution_count": 3,
   "metadata": {},
   "outputs": [],
   "source": [
    "start = train_merges.o.values\n",
    "distination = train_merges.d.values\n",
    "req_t = train_merges.req_time.values"
   ]
  },
  {
   "cell_type": "code",
   "execution_count": 4,
   "metadata": {},
   "outputs": [],
   "source": [
    "# print(len(start))\n",
    "# start_x = str(start[0]).split(',')[0]\n",
    "start_x = []\n",
    "start_y = []\n",
    "for i in range(len(start)):\n",
    "    start_x.append(str(start[i]).split(',')[0])\n",
    "    start_y.append(str(start[i].split(',')[1]))"
   ]
  },
  {
   "cell_type": "code",
   "execution_count": 5,
   "metadata": {},
   "outputs": [],
   "source": [
    "distination_x = []\n",
    "distination_y = []\n",
    "for i in range(len(distination)):\n",
    "    distination_x.append(str(start[i]).split(',')[0])\n",
    "    distination_y.append(str(start[i].split(',')[1]))"
   ]
  },
  {
   "cell_type": "code",
   "execution_count": 6,
   "metadata": {},
   "outputs": [],
   "source": [
    "# req_t_sep = []\n",
    "# req = req_t[0].split(' ')[1].split(':')[0] #crazy split to take the hours number out\n",
    "# req"
   ]
  },
  {
   "cell_type": "code",
   "execution_count": 7,
   "metadata": {},
   "outputs": [],
   "source": [
    "req_t_h = []\n",
    "\n",
    "for i in range(len(req_t)):\n",
    "    req_t_h.append(time.strptime(req_t[i], '%Y-%m-%d %H:%M:%S').tm_hour) # 阿蕊say it will be more quickly but i think it will be slower\n",
    "# a = req_t[0]\n",
    "# b = time.strptime(a, '%Y-%m-%d %H:%M:%S')# 阿蕊say it will be more quickly\n",
    "# b.tm_min"
   ]
  },
  {
   "cell_type": "code",
   "execution_count": 8,
   "metadata": {},
   "outputs": [
    {
     "name": "stdout",
     "output_type": "stream",
     "text": [
      "<class 'list'>\n"
     ]
    }
   ],
   "source": [
    "print(type(req_t_h))"
   ]
  },
  {
   "cell_type": "code",
   "execution_count": 9,
   "metadata": {},
   "outputs": [],
   "source": [
    "# a = collections.Counter(req_t_h) #count each numbers amount"
   ]
  },
  {
   "cell_type": "code",
   "execution_count": 10,
   "metadata": {},
   "outputs": [],
   "source": [
    "o1 = pd.DataFrame(start_x, columns = ['o1'])\n",
    "o2 = pd.DataFrame(start_y, columns = ['o2'])\n",
    "d1 = pd.DataFrame(distination_x, columns = ['d1'])\n",
    "d2 = pd.DataFrame(distination_y, columns = ['d2'])\n",
    "time_hour = pd.DataFrame(req_t_h, columns = ['time_hour'])"
   ]
  },
  {
   "cell_type": "code",
   "execution_count": 11,
   "metadata": {},
   "outputs": [],
   "source": [
    "final = pd.concat([train_merges, o1, o2, d1, d2, time_hour], axis = 1)"
   ]
  },
  {
   "cell_type": "code",
   "execution_count": 12,
   "metadata": {},
   "outputs": [
    {
     "data": {
      "text/html": [
       "<div>\n",
       "<style scoped>\n",
       "    .dataframe tbody tr th:only-of-type {\n",
       "        vertical-align: middle;\n",
       "    }\n",
       "\n",
       "    .dataframe tbody tr th {\n",
       "        vertical-align: top;\n",
       "    }\n",
       "\n",
       "    .dataframe thead th {\n",
       "        text-align: right;\n",
       "    }\n",
       "</style>\n",
       "<table border=\"1\" class=\"dataframe\">\n",
       "  <thead>\n",
       "    <tr style=\"text-align: right;\">\n",
       "      <th></th>\n",
       "      <th>sid</th>\n",
       "      <th>pid</th>\n",
       "      <th>req_time</th>\n",
       "      <th>o</th>\n",
       "      <th>d</th>\n",
       "      <th>plan_time</th>\n",
       "      <th>plans</th>\n",
       "      <th>p0</th>\n",
       "      <th>p1</th>\n",
       "      <th>p2</th>\n",
       "      <th>...</th>\n",
       "      <th>p63</th>\n",
       "      <th>p64</th>\n",
       "      <th>p65</th>\n",
       "      <th>click_time</th>\n",
       "      <th>click_mode</th>\n",
       "      <th>o1</th>\n",
       "      <th>o2</th>\n",
       "      <th>d1</th>\n",
       "      <th>d2</th>\n",
       "      <th>time_hour</th>\n",
       "    </tr>\n",
       "  </thead>\n",
       "  <tbody>\n",
       "    <tr>\n",
       "      <th>0</th>\n",
       "      <td>10</td>\n",
       "      <td>199899.0</td>\n",
       "      <td>2018-11-10 11:10:36</td>\n",
       "      <td>116.58,40.08</td>\n",
       "      <td>116.20,39.91</td>\n",
       "      <td>2018-11-10 11:10:36</td>\n",
       "      <td>[{\"distance\": 49067, \"price\": 3100, \"eta\": 634...</td>\n",
       "      <td>1.0</td>\n",
       "      <td>0.0</td>\n",
       "      <td>0.0</td>\n",
       "      <td>...</td>\n",
       "      <td>0.0</td>\n",
       "      <td>0.0</td>\n",
       "      <td>0.0</td>\n",
       "      <td>2018-11-10 11:13:24</td>\n",
       "      <td>1</td>\n",
       "      <td>116.58</td>\n",
       "      <td>40.08</td>\n",
       "      <td>116.58</td>\n",
       "      <td>40.08</td>\n",
       "      <td>11</td>\n",
       "    </tr>\n",
       "    <tr>\n",
       "      <th>1</th>\n",
       "      <td>21</td>\n",
       "      <td>177401.0</td>\n",
       "      <td>2018-11-10 12:16:01</td>\n",
       "      <td>116.32,39.89</td>\n",
       "      <td>116.27,39.86</td>\n",
       "      <td>2018-11-10 12:16:01</td>\n",
       "      <td>[{\"distance\": 6157, \"price\": 300, \"eta\": 1289,...</td>\n",
       "      <td>0.0</td>\n",
       "      <td>0.0</td>\n",
       "      <td>0.0</td>\n",
       "      <td>...</td>\n",
       "      <td>0.0</td>\n",
       "      <td>0.0</td>\n",
       "      <td>0.0</td>\n",
       "      <td>2018-11-10 12:16:36</td>\n",
       "      <td>2</td>\n",
       "      <td>116.32</td>\n",
       "      <td>39.89</td>\n",
       "      <td>116.32</td>\n",
       "      <td>39.89</td>\n",
       "      <td>12</td>\n",
       "    </tr>\n",
       "    <tr>\n",
       "      <th>2</th>\n",
       "      <td>25</td>\n",
       "      <td>176887.0</td>\n",
       "      <td>2018-11-10 23:51:25</td>\n",
       "      <td>116.44,39.88</td>\n",
       "      <td>116.45,39.86</td>\n",
       "      <td>2018-11-10 23:51:25</td>\n",
       "      <td>[{\"distance\": 3006, \"price\": 200, \"eta\": 2419,...</td>\n",
       "      <td>0.0</td>\n",
       "      <td>0.0</td>\n",
       "      <td>1.0</td>\n",
       "      <td>...</td>\n",
       "      <td>0.0</td>\n",
       "      <td>0.0</td>\n",
       "      <td>0.0</td>\n",
       "      <td>2018-11-10 23:51:30</td>\n",
       "      <td>1</td>\n",
       "      <td>116.44</td>\n",
       "      <td>39.88</td>\n",
       "      <td>116.44</td>\n",
       "      <td>39.88</td>\n",
       "      <td>23</td>\n",
       "    </tr>\n",
       "    <tr>\n",
       "      <th>3</th>\n",
       "      <td>34</td>\n",
       "      <td>0.0</td>\n",
       "      <td>2018-11-10 13:42:54</td>\n",
       "      <td>116.29,40.07</td>\n",
       "      <td>116.44,39.93</td>\n",
       "      <td>2018-11-10 13:42:54</td>\n",
       "      <td>[{\"distance\": 26039, \"price\": 600, \"eta\": 4411...</td>\n",
       "      <td>0.0</td>\n",
       "      <td>0.0</td>\n",
       "      <td>0.0</td>\n",
       "      <td>...</td>\n",
       "      <td>0.0</td>\n",
       "      <td>0.0</td>\n",
       "      <td>0.0</td>\n",
       "      <td>2018-11-10 13:43:19</td>\n",
       "      <td>9</td>\n",
       "      <td>116.29</td>\n",
       "      <td>40.07</td>\n",
       "      <td>116.29</td>\n",
       "      <td>40.07</td>\n",
       "      <td>13</td>\n",
       "    </tr>\n",
       "    <tr>\n",
       "      <th>4</th>\n",
       "      <td>35</td>\n",
       "      <td>106441.0</td>\n",
       "      <td>2018-11-10 16:37:17</td>\n",
       "      <td>116.17,39.92</td>\n",
       "      <td>116.20,39.93</td>\n",
       "      <td>2018-11-10 16:37:17</td>\n",
       "      <td>[{\"distance\": 4415, \"price\": 200, \"eta\": 2050,...</td>\n",
       "      <td>1.0</td>\n",
       "      <td>0.0</td>\n",
       "      <td>0.0</td>\n",
       "      <td>...</td>\n",
       "      <td>0.0</td>\n",
       "      <td>0.0</td>\n",
       "      <td>0.0</td>\n",
       "      <td>2018-11-10 16:37:25</td>\n",
       "      <td>1</td>\n",
       "      <td>116.17</td>\n",
       "      <td>39.92</td>\n",
       "      <td>116.17</td>\n",
       "      <td>39.92</td>\n",
       "      <td>16</td>\n",
       "    </tr>\n",
       "  </tbody>\n",
       "</table>\n",
       "<p>5 rows × 80 columns</p>\n",
       "</div>"
      ],
      "text/plain": [
       "   sid       pid             req_time             o             d  \\\n",
       "0   10  199899.0  2018-11-10 11:10:36  116.58,40.08  116.20,39.91   \n",
       "1   21  177401.0  2018-11-10 12:16:01  116.32,39.89  116.27,39.86   \n",
       "2   25  176887.0  2018-11-10 23:51:25  116.44,39.88  116.45,39.86   \n",
       "3   34       0.0  2018-11-10 13:42:54  116.29,40.07  116.44,39.93   \n",
       "4   35  106441.0  2018-11-10 16:37:17  116.17,39.92  116.20,39.93   \n",
       "\n",
       "             plan_time                                              plans  \\\n",
       "0  2018-11-10 11:10:36  [{\"distance\": 49067, \"price\": 3100, \"eta\": 634...   \n",
       "1  2018-11-10 12:16:01  [{\"distance\": 6157, \"price\": 300, \"eta\": 1289,...   \n",
       "2  2018-11-10 23:51:25  [{\"distance\": 3006, \"price\": 200, \"eta\": 2419,...   \n",
       "3  2018-11-10 13:42:54  [{\"distance\": 26039, \"price\": 600, \"eta\": 4411...   \n",
       "4  2018-11-10 16:37:17  [{\"distance\": 4415, \"price\": 200, \"eta\": 2050,...   \n",
       "\n",
       "    p0   p1   p2    ...      p63  p64  p65           click_time  click_mode  \\\n",
       "0  1.0  0.0  0.0    ...      0.0  0.0  0.0  2018-11-10 11:13:24           1   \n",
       "1  0.0  0.0  0.0    ...      0.0  0.0  0.0  2018-11-10 12:16:36           2   \n",
       "2  0.0  0.0  1.0    ...      0.0  0.0  0.0  2018-11-10 23:51:30           1   \n",
       "3  0.0  0.0  0.0    ...      0.0  0.0  0.0  2018-11-10 13:43:19           9   \n",
       "4  1.0  0.0  0.0    ...      0.0  0.0  0.0  2018-11-10 16:37:25           1   \n",
       "\n",
       "       o1     o2      d1     d2  time_hour  \n",
       "0  116.58  40.08  116.58  40.08         11  \n",
       "1  116.32  39.89  116.32  39.89         12  \n",
       "2  116.44  39.88  116.44  39.88         23  \n",
       "3  116.29  40.07  116.29  40.07         13  \n",
       "4  116.17  39.92  116.17  39.92         16  \n",
       "\n",
       "[5 rows x 80 columns]"
      ]
     },
     "execution_count": 12,
     "metadata": {},
     "output_type": "execute_result"
    }
   ],
   "source": [
    "final.head()"
   ]
  },
  {
   "cell_type": "code",
   "execution_count": 13,
   "metadata": {},
   "outputs": [],
   "source": [
    "final.to_csv('/storage/kdd/train_final.csv', index = False)"
   ]
  },
  {
   "cell_type": "code",
   "execution_count": null,
   "metadata": {},
   "outputs": [],
   "source": []
  }
 ],
 "metadata": {
  "kernelspec": {
   "display_name": "Python 3",
   "language": "python",
   "name": "python3"
  },
  "language_info": {
   "codemirror_mode": {
    "name": "ipython",
    "version": 3
   },
   "file_extension": ".py",
   "mimetype": "text/x-python",
   "name": "python",
   "nbconvert_exporter": "python",
   "pygments_lexer": "ipython3",
   "version": "3.5.2"
  }
 },
 "nbformat": 4,
 "nbformat_minor": 2
}
