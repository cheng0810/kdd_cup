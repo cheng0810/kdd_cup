{
 "cells": [
  {
   "cell_type": "code",
   "execution_count": 1,
   "metadata": {},
   "outputs": [],
   "source": [
    "import numpy as np\n",
    "import pandas as pd\n",
    "import math\n",
    "import os\n",
    "from tqdm import tqdm_notebook as tqdm\n",
    "import csv"
   ]
  },
  {
   "cell_type": "code",
   "execution_count": 2,
   "metadata": {},
   "outputs": [],
   "source": [
    "train_queries = pd.read_csv(\"/storage/kdd/train_queries.csv\")\n",
    "train_plans = pd.read_csv(\"/storage/kdd/train_plans.csv\")\n",
    "train_clicks = pd.read_csv(\"/storage/kdd/train_clicks.csv\")"
   ]
  },
  {
   "cell_type": "code",
   "execution_count": 3,
   "metadata": {},
   "outputs": [],
   "source": [
    "train_queries = train_queries.sort_values(by = ['sid'])\n",
    "train_plans = train_plans.sort_values(by = ['sid'])\n",
    "train_clicks = train_clicks.sort_values(by = ['sid'])"
   ]
  },
  {
   "cell_type": "code",
   "execution_count": 4,
   "metadata": {},
   "outputs": [],
   "source": [
    "t_q_sid = train_queries['sid'].values\n",
    "t_p_sid = train_plans['sid'].values\n",
    "t_c_sid = train_clicks['sid'].values"
   ]
  },
  {
   "cell_type": "code",
   "execution_count": 5,
   "metadata": {},
   "outputs": [],
   "source": [
    "three_cn = set(t_q_sid).intersection(set(t_p_sid)).intersection(set(t_c_sid))\n",
    "two_cn = set(t_q_sid).intersection(set(t_p_sid))"
   ]
  },
  {
   "cell_type": "code",
   "execution_count": 6,
   "metadata": {},
   "outputs": [
    {
     "name": "stdout",
     "output_type": "stream",
     "text": [
      "453336 491054\n"
     ]
    }
   ],
   "source": [
    "print(len(three_cn), len(two_cn))"
   ]
  },
  {
   "cell_type": "code",
   "execution_count": 7,
   "metadata": {},
   "outputs": [],
   "source": [
    "three_cn = list(three_cn)\n",
    "two_cn = list(two_cn)"
   ]
  },
  {
   "cell_type": "code",
   "execution_count": 8,
   "metadata": {},
   "outputs": [
    {
     "name": "stdout",
     "output_type": "stream",
     "text": [
      "            sid  pid             req_time             o             d\n",
      "124856  2097156  NaN  2018-11-18 05:06:18  116.42,39.90  116.42,39.90\n",
      "            sid           click_time  click_mode\n",
      "314575  2097156  2018-11-18 05:06:22           5\n"
     ]
    }
   ],
   "source": [
    "fliter = (train_queries['sid'] == three_cn[1])\n",
    "print(train_queries[fliter])\n",
    "fliter1 = (train_clicks['sid'] == three_cn[1])\n",
    "print(train_clicks[fliter1])"
   ]
  },
  {
   "cell_type": "code",
   "execution_count": 9,
   "metadata": {},
   "outputs": [
    {
     "data": {
      "application/vnd.jupyter.widget-view+json": {
       "model_id": "f5023f511cfa4192bc920f1e619c19ae",
       "version_major": 2,
       "version_minor": 0
      },
      "text/plain": [
       "HBox(children=(IntProgress(value=0, max=453336), HTML(value='')))"
      ]
     },
     "metadata": {},
     "output_type": "display_data"
    },
    {
     "name": "stdout",
     "output_type": "stream",
     "text": [
      "\n"
     ]
    }
   ],
   "source": [
    "# a = train_queries[(train_queries.sid == three_cn[1] )].index.tolist()\n",
    "# print(a)\n",
    "click_mode = []\n",
    "click_time = []\n",
    "for i in range(len(t_q_sid)):\n",
    "    click_mode.append(0)\n",
    "    click_time.append(0)\n",
    "train_queries['click_mode'] = click_mode\n",
    "train_queries['click_time'] = click_time\n",
    "for click in tqdm(range(len(three_cn))):\n",
    "    train_queries.loc[(train_queries.sid == three_cn[click] ),'click_mode'] = int(train_clicks[train_clicks.sid == three_cn[click]].click_mode.values)\n",
    "    train_queries.loc[(train_queries.sid == three_cn[click] ),'click_time'] = train_clicks[train_clicks.sid == three_cn[click]].click_time.values\n",
    "\n",
    "train_queries.to_csv('train_querywithclickmode.csv')"
   ]
  },
  {
   "cell_type": "code",
   "execution_count": 10,
   "metadata": {},
   "outputs": [],
   "source": [
    "# clickt = []\n",
    "# clickm = []\n",
    "# for i in range(len(three_cn)):\n",
    "#     x = three_cn[i][0]\n",
    "#     for j in range(len(two_cn)):\n",
    "#         if x == two_cn[j][0]:\n",
    "#             clickt.append(two_cn[j][1])\n",
    "#             clickm.append(three_cn[j][2])\n",
    "        "
   ]
  }
 ],
 "metadata": {
  "kernelspec": {
   "display_name": "Python 3",
   "language": "python",
   "name": "python3"
  },
  "language_info": {
   "codemirror_mode": {
    "name": "ipython",
    "version": 3
   },
   "file_extension": ".py",
   "mimetype": "text/x-python",
   "name": "python",
   "nbconvert_exporter": "python",
   "pygments_lexer": "ipython3",
   "version": "3.5.2"
  }
 },
 "nbformat": 4,
 "nbformat_minor": 2
}
