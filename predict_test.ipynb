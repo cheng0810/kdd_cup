{
 "cells": [
  {
   "cell_type": "code",
   "execution_count": 1,
   "metadata": {},
   "outputs": [],
   "source": [
    "def preprocess(test_data):\n",
    "    import pandas as pd\n",
    "    import numpy as np\n",
    "    from sklearn import preprocessing\n",
    "    from sklearn.preprocessing import MinMaxScaler\n",
    "    \n",
    "    test_data_sid = test_data.sid.values\n",
    "\n",
    "    test_data = test_data.drop(columns= ['sid','pid','plans','req_time','plan_time','o','d'])\n",
    "    #one hot 'time_hour'\n",
    "    df2 = pd.get_dummies(test_data['time_hour'])\n",
    "    test_data = test_data.join(df2)\n",
    "    \n",
    "    test_data = test_data.drop(columns = ['time_hour'])\n",
    "\n",
    "    scaler = MinMaxScaler()\n",
    "    test_data = scaler.fit_transform(test_data)\n",
    "    test_data = pd.DataFrame(test_data)\n",
    "    \n",
    "    return test_data , test_data_sid"
   ]
  },
  {
   "cell_type": "code",
   "execution_count": 2,
   "metadata": {},
   "outputs": [],
   "source": [
    "def predict_sid():\n",
    "    import pandas as pd\n",
    "    import numpy as np\n",
    "    import csv\n",
    "    \n",
    "    test_merges1 = pd.read_csv('/storage/kdd/test_final.csv')\n",
    "    total_sid = test_merges1.sid.values\n",
    "    \n",
    "    total = pd.DataFrame({'sid': total_sid})\n",
    "    return total"
   ]
  },
  {
   "cell_type": "code",
   "execution_count": 3,
   "metadata": {},
   "outputs": [],
   "source": [
    "def load_part_ans():\n",
    "    import pandas as pd\n",
    "    import numpy as np\n",
    "    import csv\n",
    "    \n",
    "    part_ans = pd.read_csv('/storage/kdd/part_answer.csv')\n",
    "    return part_ans"
   ]
  },
  {
   "cell_type": "code",
   "execution_count": 4,
   "metadata": {},
   "outputs": [],
   "source": [
    "def load_and_train(test_data , test_data_sid):\n",
    "    import pandas as pd\n",
    "    import numpy as np\n",
    "    from sklearn.externals import joblib \n",
    "    \n",
    "    #randomforest model\n",
    "    rf = joblib.load('rf4.pkl') \n",
    "    test_label = rf.predict(test_data)\n",
    "    \n",
    "    ans = pd.DataFrame({'sid': test_data_sid, 'recommend_mode':test_label})\n",
    "    ans = ans[['sid','recommend_mode']]\n",
    "    \n",
    "    return ans"
   ]
  },
  {
   "cell_type": "code",
   "execution_count": 5,
   "metadata": {},
   "outputs": [],
   "source": [
    "def main():\n",
    "    import pandas as pd\n",
    "    import numpy as np\n",
    "    import csv\n",
    "    \n",
    "    test_data = pd.read_csv('/storage/kdd/test_final3.csv')#這個檔案就是去除no_plan no_pid剩下的data\n",
    "    test_data , test_data_sid = preprocess(test_data)\n",
    "    total = predict_sid()\n",
    "    part_ans = load_part_ans()\n",
    "    ans = load_and_train(test_data , test_data_sid)\n",
    "    \n",
    "    ans = pd.concat([ans,part_ans], ignore_index= True)\n",
    "    ans = total.merge(ans,left_on='sid',right_on='sid')\n",
    "    \n",
    "    ans.to_csv('rftest.csv' , index = False)"
   ]
  },
  {
   "cell_type": "code",
   "execution_count": 6,
   "metadata": {},
   "outputs": [],
   "source": [
    "if __name__ == '__main__':\n",
    "    main()"
   ]
  }
 ],
 "metadata": {
  "kernelspec": {
   "display_name": "Python 3",
   "language": "python",
   "name": "python3"
  },
  "language_info": {
   "codemirror_mode": {
    "name": "ipython",
    "version": 3
   },
   "file_extension": ".py",
   "mimetype": "text/x-python",
   "name": "python",
   "nbconvert_exporter": "python",
   "pygments_lexer": "ipython3",
   "version": "3.5.2"
  }
 },
 "nbformat": 4,
 "nbformat_minor": 2
}
