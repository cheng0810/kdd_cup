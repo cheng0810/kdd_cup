{
 "cells": [
  {
   "cell_type": "code",
   "execution_count": 1,
   "metadata": {},
   "outputs": [],
   "source": [
    "def takedata_index(csv , x):\n",
    "    import random\n",
    "    from tqdm import tqdm_notebook as tqdm\n",
    "    \n",
    "    plan = csv.plans.values\n",
    "    click = csv.click_mode.values\n",
    "\n",
    "    transport_mode = []\n",
    "    index = []\n",
    "    \n",
    "    #100% means all data\n",
    "    if(x == 100):\n",
    "        csv.reset_index(drop=True, inplace=True) \n",
    "        return csv.index\n",
    "    \n",
    "    #put the most recommend plan in to transport_mode\n",
    "    for i in range(len(plan)): \n",
    "        #it must have better way  but now i just want to quickly distingush the dif \n",
    "        #if mode = 10\n",
    "        if(str(str(plan[i]).split('transport_mode')[1])[4] == str(0)):\n",
    "            transport_mode.append(str(10))\n",
    "        #if mode = 11\n",
    "        elif(str(str(plan[i]).split('transport_mode')[1])[4] == str(1)):\n",
    "            transport_mode.append(str(11))\n",
    "        else:\n",
    "            transport_mode.append(str(str(plan[i]).split('transport_mode')[1])[3])\n",
    "    \n",
    "        \n",
    "    #find dif index between transport_mode and click_mode\n",
    "    for i in range(len(click)): \n",
    "        if(int(transport_mode[i]) != click[i]):\n",
    "            index.append(i)\n",
    "    \n",
    "    #put most recommend_mode people __% to training\n",
    "    dif_id_len = len(index)\n",
    "    normal_id_len = int(dif_id_len* (x/100))\n",
    "    for i in tqdm(range(normal_id_len)):\n",
    "        num = random.randint(1,len(plan))\n",
    "        while(num in index):\n",
    "            num = random.randint(1,len(plan))\n",
    "        index.append(num)\n",
    "    index.sort()\n",
    "    \n",
    "    return index"
   ]
  },
  {
   "cell_type": "code",
   "execution_count": 2,
   "metadata": {},
   "outputs": [],
   "source": [
    "def train_data(file, index):\n",
    "    import pandas as pd\n",
    "    from sklearn import preprocessing\n",
    "    from sklearn.preprocessing import MinMaxScaler\n",
    "    \n",
    "    train_d = file.iloc[index]\n",
    "    train_label = train_d.click_mode\n",
    "    #choose what feature you don't need\n",
    "    train_d = train_d.drop(columns= ['sid','pid','plans','req_time','plan_time','o','d','click_mode','click_time'])\n",
    "    train_d = train_d.drop(columns = ['time_hour'])\n",
    "    train_d.reset_index(drop=True, inplace=True)\n",
    "    \n",
    "    #normalize\n",
    "    scaler = MinMaxScaler()\n",
    "    train_d = scaler.fit_transform(train_d)\n",
    "    train_d = pd.DataFrame(train_d)\n",
    "    \n",
    "    return train_d, train_label"
   ]
  },
  {
   "cell_type": "code",
   "execution_count": 3,
   "metadata": {},
   "outputs": [],
   "source": [
    "def rf(data, label):\n",
    "    from sklearn import preprocessing, cross_validation, metrics, ensemble\n",
    "    \n",
    "    train_X, test_X, train_y, test_y = cross_validation.train_test_split(data, label, test_size = 0.3)\n",
    "    forest = ensemble.RandomForestClassifier(n_estimators = 100)\n",
    "    forest_fit = forest.fit(train_X, train_y)\n",
    "    test_y_predicted = forest.predict(test_X)\n",
    "\n",
    "    accuracy = metrics.accuracy_score(test_y, test_y_predicted)\n",
    "    print(forest_fit)\n",
    "    print(accuracy)"
   ]
  },
  {
   "cell_type": "code",
   "execution_count": 4,
   "metadata": {},
   "outputs": [],
   "source": [
    "def main():\n",
    "    import pandas as pd\n",
    "    import numpy as np\n",
    "    import csv\n",
    "#     from sklearn import preprocessing, cross_validation, metrics, ensemble\n",
    "#     from sklearn.preprocessing import MinMaxScaler\n",
    "    \n",
    "    train_final = pd.read_csv('/storage/kdd/train_final2.csv')\n",
    "    \n",
    "    index = takedata_index(train_final ,100)\n",
    "    train_d, train_label = train_data(train_final, index)\n",
    "    rf(train_d, train_label)"
   ]
  },
  {
   "cell_type": "code",
   "execution_count": 5,
   "metadata": {},
   "outputs": [
    {
     "name": "stderr",
     "output_type": "stream",
     "text": [
      "/usr/local/lib/python3.5/dist-packages/sklearn/cross_validation.py:41: DeprecationWarning: This module was deprecated in version 0.18 in favor of the model_selection module into which all the refactored classes and functions are moved. Also note that the interface of the new CV iterators are different from that of this module. This module will be removed in 0.20.\n",
      "  \"This module will be removed in 0.20.\", DeprecationWarning)\n"
     ]
    },
    {
     "name": "stdout",
     "output_type": "stream",
     "text": [
      "RandomForestClassifier(bootstrap=True, class_weight=None, criterion='gini',\n",
      "            max_depth=None, max_features='auto', max_leaf_nodes=None,\n",
      "            min_impurity_decrease=0.0, min_impurity_split=None,\n",
      "            min_samples_leaf=1, min_samples_split=2,\n",
      "            min_weight_fraction_leaf=0.0, n_estimators=100, n_jobs=1,\n",
      "            oob_score=False, random_state=None, verbose=0,\n",
      "            warm_start=False)\n",
      "0.6883919971176683\n"
     ]
    }
   ],
   "source": [
    "if __name__ == '__main__':\n",
    "    main()"
   ]
  },
  {
   "cell_type": "code",
   "execution_count": null,
   "metadata": {},
   "outputs": [],
   "source": []
  }
 ],
 "metadata": {
  "kernelspec": {
   "display_name": "Python 3",
   "language": "python",
   "name": "python3"
  },
  "language_info": {
   "codemirror_mode": {
    "name": "ipython",
    "version": 3
   },
   "file_extension": ".py",
   "mimetype": "text/x-python",
   "name": "python",
   "nbconvert_exporter": "python",
   "pygments_lexer": "ipython3",
   "version": "3.5.2"
  }
 },
 "nbformat": 4,
 "nbformat_minor": 2
}
